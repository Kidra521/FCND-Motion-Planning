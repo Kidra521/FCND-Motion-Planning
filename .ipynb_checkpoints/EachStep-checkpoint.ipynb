{
 "cells": [
  {
   "cell_type": "code",
   "execution_count": 1,
   "metadata": {},
   "outputs": [],
   "source": [
    "import argparse\n",
    "import time\n",
    "import msgpack\n",
    "from enum import Enum, auto\n",
    "\n",
    "import numpy as np\n",
    "\n",
    "from planning_utils import a_star, heuristic, create_grid\n",
    "from udacidrone import Drone\n",
    "from udacidrone.connection import MavlinkConnection\n",
    "from udacidrone.messaging import MsgID\n",
    "from udacidrone.frame_utils import global_to_local"
   ]
  },
  {
   "cell_type": "code",
   "execution_count": 2,
   "metadata": {},
   "outputs": [],
   "source": [
    "TARGET_ALTITUDE = 5\n",
    "SAFETY_DISTANCE = 3"
   ]
  },
  {
   "cell_type": "code",
   "execution_count": 3,
   "metadata": {},
   "outputs": [
    {
     "name": "stdout",
     "output_type": "stream",
     "text": [
      "37.79248 -122.39745\n"
     ]
    }
   ],
   "source": [
    "# TODO: read lat0, lon0 from colliders into floating point values\n",
    "filename = 'colliders.csv'\n",
    "with open(filename) as f:\n",
    "    lat, lon = [float(x.replace(\"lat0 \", \"\").replace(\"lon0 \", \"\")) for x in f.readline().split(',')]\n",
    "print(lat,lon)"
   ]
  },
  {
   "cell_type": "code",
   "execution_count": 4,
   "metadata": {},
   "outputs": [
    {
     "name": "stdout",
     "output_type": "stream",
     "text": [
      "[-122.39745   37.79248    0.     ]\n"
     ]
    }
   ],
   "source": [
    "# TODO: set home position to (lon0, lat0, 0)\n",
    "global_home = np.array([lon, lat, 0.0])\n",
    "print(global_home)"
   ]
  },
  {
   "cell_type": "code",
   "execution_count": 5,
   "metadata": {},
   "outputs": [
    {
     "name": "stdout",
     "output_type": "stream",
     "text": [
      "global home [-122.39745   37.79248    0.     ], position [-122.397449    37.7924812    0.206    ], local position [ 0.13684243  0.08098758 -0.20624188]\n"
     ]
    }
   ],
   "source": [
    "# TODO: retrieve current global position\n",
    "# Here we read the global_position from the simulator, later on we can change the value if the drone move\n",
    "drone_global_position = np.array([-122.397449, 37.7924812, 0.206])\n",
    "\n",
    "drone_local_postion = np.array([0.13684243, 0.08098758, -0.20624188])\n",
    "print('global home {0}, position {1}, local position {2}'.format(global_home, drone_global_position,drone_local_postion))\n",
    "# The order of values is : NED"
   ]
  },
  {
   "cell_type": "code",
   "execution_count": 6,
   "metadata": {},
   "outputs": [
    {
     "name": "stdout",
     "output_type": "stream",
     "text": [
      "[ 0.13370707  0.08718733 -0.206     ]\n"
     ]
    }
   ],
   "source": [
    "# TODO: convert to current local position using global_to_local()\n",
    "current_local_position = global_to_local(drone_global_position,global_home)\n",
    "print(current_local_position)"
   ]
  },
  {
   "cell_type": "code",
   "execution_count": 7,
   "metadata": {},
   "outputs": [
    {
     "name": "stdout",
     "output_type": "stream",
     "text": [
      "lat0 37.792480, lon0 -122.397450\n",
      "\n",
      "posX,posY,posZ,halfSizeX,halfSizeY,halfSizeZ\n",
      "\n",
      "[[-310.2389   -439.2315     85.5         5.          5.         85.5     ]\n",
      " [-300.2389   -439.2315     85.5         5.          5.         85.5     ]\n",
      " [-290.2389   -439.2315     85.5         5.          5.         85.5     ]\n",
      " ...\n",
      " [ 257.8061    425.1645      1.75852     1.292725    1.292725    1.944791]\n",
      " [ 293.9967    368.3391      3.557666    1.129456    1.129456    3.667319]\n",
      " [ 281.5162    354.4156      4.999351    1.053772    1.053772    4.950246]]\n",
      "(3845, 6)\n"
     ]
    }
   ],
   "source": [
    "data = np.loadtxt('colliders.csv', delimiter=',', dtype='Float64', skiprows=2)\n",
    "\n",
    "with open(filename) as f:\n",
    "        print(f.readline())\n",
    "        print(f.readline())\n",
    "print(data)\n",
    "print(data.shape)\n"
   ]
  },
  {
   "cell_type": "code",
   "execution_count": 8,
   "metadata": {},
   "outputs": [
    {
     "name": "stdout",
     "output_type": "stream",
     "text": [
      "North offset = -316, east offset = -445\n"
     ]
    }
   ],
   "source": [
    "grid, north_offset, east_offset = create_grid(data, TARGET_ALTITUDE, SAFETY_DISTANCE)\n",
    "print(\"North offset = {0}, east offset = {1}\".format(north_offset, east_offset))\n",
    "# Define starting point on the grid (this is just grid center)"
   ]
  },
  {
   "cell_type": "code",
   "execution_count": 9,
   "metadata": {},
   "outputs": [
    {
     "name": "stdout",
     "output_type": "stream",
     "text": [
      "current_local_position [ 0.13370707  0.08718733 -0.206     ]\n",
      "grid_start: (316, 445)\n",
      "goal_local_position: [555.16514448 146.88757767  -0.        ]\n",
      "grid_goal (871, 591)\n"
     ]
    }
   ],
   "source": [
    "# Define starting point on the grid \n",
    "# TODO: convert start position to current position rather than map center\n",
    "grid_start = (int(current_local_position[0] - north_offset), int(current_local_position[1]\n",
    "             - east_offset))\n",
    "print('current_local_position',current_local_position)\n",
    "print('grid_start:',grid_start)\n",
    "# TODO: adapt to set goal as latitude / longitude position and convert\n",
    "goal_lon, goal_lat = -122.395741, 37.797475\n",
    "goal_global_position = np.array([goal_lon,goal_lat,0])\n",
    "goal_local_position = global_to_local(goal_global_position,global_home)\n",
    "print('goal_local_position:',goal_local_position)\n",
    "grid_goal = (int(goal_local_position[0] - north_offset),\n",
    "            int(goal_local_position[1] - east_offset))\n",
    "print('grid_goal',grid_goal)"
   ]
  },
  {
   "cell_type": "code",
   "execution_count": 10,
   "metadata": {},
   "outputs": [],
   "source": [
    "class Action(Enum):\n",
    "    \"\"\"\n",
    "    An action is represented by a 3 element tuple.\n",
    "    \n",
    "    The first 2 values are the delta of the action relative\n",
    "    to the current grid position. The third and final value\n",
    "    is the cost of performing the action.\n",
    "    \"\"\"\n",
    "    LEFT = (0, -1, 1)\n",
    "    RIGHT = (0, 1, 1)\n",
    "    UP = (-1, 0, 1)\n",
    "    DOWN = (1, 0, 1)\n",
    "    \n",
    "    UP_LEFT = (-1, -1, np.sqrt(2))\n",
    "    UP_RIGHT = (-1, 1, np.sqrt(2))\n",
    "    DOWN_LEFT = (1, -1, np.sqrt(2))\n",
    "    DOWN_RIGHT = (1, 1, np.sqrt(2))\n",
    "    \n",
    "    def __str__(self):\n",
    "        if self == self.LEFT:\n",
    "            return '<'\n",
    "        elif self == self.RIGHT:\n",
    "            return '>'\n",
    "        elif self == self.UP:\n",
    "            return '^'\n",
    "        elif self == self.DOWN:\n",
    "            return 'v'\n",
    "        elif self == self.DOWN_RIGHT:\n",
    "            return '\\\\'\n",
    "        elif self == self.DOWN_LEFT:\n",
    "            return '/'\n",
    "        elif self == self.UP_RIGHT:\n",
    "            return '/'\n",
    "        elif self == self.UP_LEFT:\n",
    "            return '\\\\'\n",
    "    \n",
    "    @property\n",
    "    def cost(self):\n",
    "        return self.value[2]\n",
    "    \n",
    "    @property\n",
    "    def delta(self):\n",
    "        return (self.value[0], self.value[1])\n",
    "    \n",
    "def valid_actions(grid, current_node):\n",
    "    \"\"\"\n",
    "    Returns a list of valid actions given a grid and current node.\n",
    "    \"\"\"\n",
    "    valid = [Action.UP, Action.LEFT, Action.RIGHT, Action.DOWN,\n",
    "            Action.UP_LEFT, Action.DOWN_LEFT, Action.UP_RIGHT, Action.DOWN_RIGHT]\n",
    "    n, m = grid.shape[0] - 1, grid.shape[1] - 1\n",
    "    x, y = current_node\n",
    "    \n",
    "    # check if the node is off the grid or\n",
    "    # it's an obstacle\n",
    "    \n",
    "    if x - 1 < 0 or grid[x-1, y] == 1:\n",
    "        valid.remove(Action.UP)\n",
    "    if x + 1 > n or grid[x+1, y] == 1:\n",
    "        valid.remove(Action.DOWN)\n",
    "    if y - 1 < 0 or grid[x, y-1] == 1:\n",
    "        valid.remove(Action.LEFT)\n",
    "    if y + 1 > m or grid[x, y+1] == 1:\n",
    "        valid.remove(Action.RIGHT)\n",
    "    \n",
    "    if y-1<0 or x-1<0 or grid[x-1,y-1] == 1:\n",
    "        valid.remove(Action.UP_LEFT)\n",
    "    if y-1<0 or x+1>n or grid[x+1,y-1] == 1:\n",
    "        valid.remove(Action.DOWN_LEFT)\n",
    "    if y + 1 > m or x-1<0 or grid[x-1,y+1] == 1:\n",
    "        valid.remove(Action.UP_RIGHT)\n",
    "    if y + 1 > m or x+1>n or grid[x+1,y+1] == 1:\n",
    "        valid.remove(Action.DOWN_RIGHT)\n",
    "        \n",
    "    return valid\n",
    "\n",
    "def visualize_path(grid, path, start):\n",
    "    sgrid = np.zeros(np.shape(grid), dtype=np.str)\n",
    "    sgrid[:] = ' '\n",
    "    sgrid[grid[:] == 1] = 'O'\n",
    "        \n",
    "    pos = start\n",
    "    \n",
    "    for a in path:\n",
    "        da = a.value\n",
    "        sgrid[pos[0], pos[1]] = str(a)\n",
    "        pos = (pos[0] + da[0], pos[1] + da[1])\n",
    "    sgrid[pos[0], pos[1]] = 'G'\n",
    "    sgrid[start[0], start[1]] = 'S'  \n",
    "    return sgrid"
   ]
  },
  {
   "cell_type": "code",
   "execution_count": 11,
   "metadata": {},
   "outputs": [],
   "source": [
    "def heuristic_func(position, goal_position):\n",
    "    return np.abs(position[0] - goal_position[0]) + np.abs(position[1] - goal_position[1])"
   ]
  },
  {
   "cell_type": "code",
   "execution_count": 12,
   "metadata": {},
   "outputs": [],
   "source": [
    "from queue import PriorityQueue\n",
    "import numpy as np\n",
    "from enum import Enum\n",
    "\n",
    "def a_star(grid, h, start, goal):\n",
    "\n",
    "    path = []\n",
    "    queue = PriorityQueue()\n",
    "    queue.put((0, start))\n",
    "    visited = set(start)\n",
    "\n",
    "    branch = {}\n",
    "    found = False\n",
    "    \n",
    "    while not queue.empty():\n",
    "        item = queue.get()\n",
    "        current_cost = item[0]\n",
    "        current_node = item[1]\n",
    "\n",
    "        if current_node == goal:        \n",
    "            print('Found a path.')\n",
    "            found = True\n",
    "            break\n",
    "        else:\n",
    "            for action in valid_actions(grid, current_node):\n",
    "                # get the tuple representation\n",
    "                da = action.delta\n",
    "                cost = action.cost\n",
    "                next_node = (current_node[0] + da[0], current_node[1] + da[1])\n",
    "                new_cost = current_cost + cost + h(next_node, goal)\n",
    "                \n",
    "                if next_node not in visited:                \n",
    "                    visited.add(next_node)               \n",
    "                    queue.put((new_cost, next_node))\n",
    "                    \n",
    "                    branch[next_node] = (new_cost, current_node, action)\n",
    "             \n",
    "    path = []\n",
    "    path_cost = 0\n",
    "    if found:\n",
    "        \n",
    "        # retrace steps\n",
    "        path = []\n",
    "        n = goal\n",
    "        path_cost = branch[n][0]\n",
    "        while branch[n][1] != start:\n",
    "            path.append(branch[n][2])\n",
    "            n = branch[n][1]\n",
    "        path.append(branch[n][2])\n",
    "            \n",
    "    return path[::-1], path_cost"
   ]
  },
  {
   "cell_type": "code",
   "execution_count": 13,
   "metadata": {},
   "outputs": [
    {
     "name": "stdout",
     "output_type": "stream",
     "text": [
      "Found a path.\n",
      "[<Action.DOWN_RIGHT: (1, 1, 1.4142135623730951)>, <Action.DOWN_RIGHT: (1, 1, 1.4142135623730951)>, <Action.RIGHT: (0, 1, 1)>, <Action.RIGHT: (0, 1, 1)>, <Action.DOWN_RIGHT: (1, 1, 1.4142135623730951)>, <Action.DOWN_LEFT: (1, -1, 1.4142135623730951)>] 20.37820360123074\n"
     ]
    },
    {
     "data": {
      "text/plain": [
       "array([['S', 'O', ' ', ' ', ' ', ' '],\n",
       "       [' ', '\\\\', ' ', ' ', ' ', ' '],\n",
       "       [' ', 'O', '>', '>', '\\\\', ' '],\n",
       "       [' ', ' ', ' ', 'O', 'O', '/'],\n",
       "       [' ', ' ', ' ', 'O', 'G', ' ']], dtype='<U1')"
      ]
     },
     "execution_count": 13,
     "metadata": {},
     "output_type": "execute_result"
    }
   ],
   "source": [
    "start = (0, 0)\n",
    "goal = (4, 4)\n",
    "\n",
    "grid = np.array([\n",
    "    [0, 1, 0, 0, 0, 0],\n",
    "    [0, 0, 0, 0, 0, 0],\n",
    "    [0, 1, 0, 0, 0, 0],\n",
    "    [0, 0, 0, 1, 1, 0],\n",
    "    [0, 0, 0, 1, 0, 0],\n",
    "])\n",
    "path, cost = a_star(grid, heuristic, start, goal)\n",
    "print(path, cost)\n",
    "visualize_path(grid, path, start)"
   ]
  },
  {
   "cell_type": "markdown",
   "metadata": {},
   "source": [
    "# OK! A star works "
   ]
  },
  {
   "cell_type": "code",
   "execution_count": 14,
   "metadata": {},
   "outputs": [
    {
     "name": "stdout",
     "output_type": "stream",
     "text": [
      "Found a path.\n",
      "[<Action.DOWN_RIGHT: (1, 1, 1.4142135623730951)>, <Action.DOWN_RIGHT: (1, 1, 1.4142135623730951)>, <Action.DOWN_RIGHT: (1, 1, 1.4142135623730951)>, <Action.DOWN_RIGHT: (1, 1, 1.4142135623730951)>, <Action.DOWN_RIGHT: (1, 1, 1.4142135623730951)>, <Action.DOWN_RIGHT: (1, 1, 1.4142135623730951)>, <Action.DOWN_RIGHT: (1, 1, 1.4142135623730951)>, <Action.DOWN_RIGHT: (1, 1, 1.4142135623730951)>, <Action.DOWN_RIGHT: (1, 1, 1.4142135623730951)>, <Action.DOWN_RIGHT: (1, 1, 1.4142135623730951)>, <Action.DOWN_RIGHT: (1, 1, 1.4142135623730951)>, <Action.DOWN_RIGHT: (1, 1, 1.4142135623730951)>, <Action.DOWN_RIGHT: (1, 1, 1.4142135623730951)>, <Action.DOWN_RIGHT: (1, 1, 1.4142135623730951)>, <Action.DOWN_RIGHT: (1, 1, 1.4142135623730951)>, <Action.DOWN_RIGHT: (1, 1, 1.4142135623730951)>, <Action.DOWN_RIGHT: (1, 1, 1.4142135623730951)>, <Action.DOWN_RIGHT: (1, 1, 1.4142135623730951)>, <Action.DOWN_RIGHT: (1, 1, 1.4142135623730951)>, <Action.DOWN_RIGHT: (1, 1, 1.4142135623730951)>, <Action.DOWN_RIGHT: (1, 1, 1.4142135623730951)>, <Action.DOWN_RIGHT: (1, 1, 1.4142135623730951)>, <Action.DOWN_RIGHT: (1, 1, 1.4142135623730951)>, <Action.DOWN_RIGHT: (1, 1, 1.4142135623730951)>, <Action.DOWN_RIGHT: (1, 1, 1.4142135623730951)>, <Action.DOWN_RIGHT: (1, 1, 1.4142135623730951)>, <Action.DOWN_RIGHT: (1, 1, 1.4142135623730951)>, <Action.DOWN_RIGHT: (1, 1, 1.4142135623730951)>, <Action.DOWN_RIGHT: (1, 1, 1.4142135623730951)>, <Action.DOWN_RIGHT: (1, 1, 1.4142135623730951)>, <Action.DOWN_RIGHT: (1, 1, 1.4142135623730951)>, <Action.DOWN_RIGHT: (1, 1, 1.4142135623730951)>, <Action.DOWN_RIGHT: (1, 1, 1.4142135623730951)>, <Action.DOWN_RIGHT: (1, 1, 1.4142135623730951)>, <Action.DOWN_RIGHT: (1, 1, 1.4142135623730951)>, <Action.DOWN_RIGHT: (1, 1, 1.4142135623730951)>, <Action.DOWN_RIGHT: (1, 1, 1.4142135623730951)>, <Action.DOWN_RIGHT: (1, 1, 1.4142135623730951)>, <Action.DOWN_RIGHT: (1, 1, 1.4142135623730951)>, <Action.DOWN_RIGHT: (1, 1, 1.4142135623730951)>, <Action.DOWN_RIGHT: (1, 1, 1.4142135623730951)>, <Action.DOWN_RIGHT: (1, 1, 1.4142135623730951)>, <Action.DOWN_RIGHT: (1, 1, 1.4142135623730951)>, <Action.DOWN_RIGHT: (1, 1, 1.4142135623730951)>, <Action.DOWN_RIGHT: (1, 1, 1.4142135623730951)>, <Action.DOWN_RIGHT: (1, 1, 1.4142135623730951)>, <Action.DOWN_RIGHT: (1, 1, 1.4142135623730951)>, <Action.DOWN_RIGHT: (1, 1, 1.4142135623730951)>, <Action.DOWN_RIGHT: (1, 1, 1.4142135623730951)>, <Action.DOWN_RIGHT: (1, 1, 1.4142135623730951)>, <Action.DOWN_RIGHT: (1, 1, 1.4142135623730951)>, <Action.DOWN_RIGHT: (1, 1, 1.4142135623730951)>, <Action.DOWN_RIGHT: (1, 1, 1.4142135623730951)>, <Action.DOWN_RIGHT: (1, 1, 1.4142135623730951)>, <Action.DOWN_RIGHT: (1, 1, 1.4142135623730951)>, <Action.DOWN_RIGHT: (1, 1, 1.4142135623730951)>, <Action.DOWN_RIGHT: (1, 1, 1.4142135623730951)>, <Action.DOWN_RIGHT: (1, 1, 1.4142135623730951)>, <Action.DOWN_RIGHT: (1, 1, 1.4142135623730951)>, <Action.DOWN_RIGHT: (1, 1, 1.4142135623730951)>, <Action.DOWN_RIGHT: (1, 1, 1.4142135623730951)>, <Action.DOWN_RIGHT: (1, 1, 1.4142135623730951)>, <Action.DOWN_RIGHT: (1, 1, 1.4142135623730951)>, <Action.DOWN_RIGHT: (1, 1, 1.4142135623730951)>, <Action.DOWN_RIGHT: (1, 1, 1.4142135623730951)>, <Action.DOWN_RIGHT: (1, 1, 1.4142135623730951)>, <Action.DOWN_RIGHT: (1, 1, 1.4142135623730951)>, <Action.DOWN_RIGHT: (1, 1, 1.4142135623730951)>, <Action.DOWN_RIGHT: (1, 1, 1.4142135623730951)>, <Action.DOWN_RIGHT: (1, 1, 1.4142135623730951)>, <Action.DOWN_RIGHT: (1, 1, 1.4142135623730951)>, <Action.DOWN_RIGHT: (1, 1, 1.4142135623730951)>, <Action.DOWN_RIGHT: (1, 1, 1.4142135623730951)>, <Action.DOWN_RIGHT: (1, 1, 1.4142135623730951)>, <Action.DOWN_RIGHT: (1, 1, 1.4142135623730951)>, <Action.DOWN_RIGHT: (1, 1, 1.4142135623730951)>, <Action.DOWN_RIGHT: (1, 1, 1.4142135623730951)>, <Action.DOWN_RIGHT: (1, 1, 1.4142135623730951)>, <Action.DOWN_RIGHT: (1, 1, 1.4142135623730951)>, <Action.DOWN_RIGHT: (1, 1, 1.4142135623730951)>, <Action.DOWN_RIGHT: (1, 1, 1.4142135623730951)>, <Action.DOWN_RIGHT: (1, 1, 1.4142135623730951)>, <Action.DOWN_RIGHT: (1, 1, 1.4142135623730951)>, <Action.DOWN_RIGHT: (1, 1, 1.4142135623730951)>, <Action.DOWN_RIGHT: (1, 1, 1.4142135623730951)>, <Action.DOWN_RIGHT: (1, 1, 1.4142135623730951)>, <Action.DOWN_RIGHT: (1, 1, 1.4142135623730951)>, <Action.DOWN_RIGHT: (1, 1, 1.4142135623730951)>, <Action.DOWN_RIGHT: (1, 1, 1.4142135623730951)>, <Action.DOWN_RIGHT: (1, 1, 1.4142135623730951)>, <Action.DOWN_RIGHT: (1, 1, 1.4142135623730951)>, <Action.DOWN_RIGHT: (1, 1, 1.4142135623730951)>, <Action.DOWN_RIGHT: (1, 1, 1.4142135623730951)>, <Action.DOWN_RIGHT: (1, 1, 1.4142135623730951)>, <Action.DOWN_RIGHT: (1, 1, 1.4142135623730951)>, <Action.DOWN_RIGHT: (1, 1, 1.4142135623730951)>, <Action.DOWN_RIGHT: (1, 1, 1.4142135623730951)>, <Action.DOWN_RIGHT: (1, 1, 1.4142135623730951)>, <Action.DOWN_RIGHT: (1, 1, 1.4142135623730951)>, <Action.DOWN_RIGHT: (1, 1, 1.4142135623730951)>, <Action.DOWN_RIGHT: (1, 1, 1.4142135623730951)>, <Action.DOWN_RIGHT: (1, 1, 1.4142135623730951)>, <Action.DOWN_RIGHT: (1, 1, 1.4142135623730951)>, <Action.DOWN_RIGHT: (1, 1, 1.4142135623730951)>, <Action.DOWN_RIGHT: (1, 1, 1.4142135623730951)>, <Action.DOWN_RIGHT: (1, 1, 1.4142135623730951)>, <Action.DOWN_RIGHT: (1, 1, 1.4142135623730951)>, <Action.DOWN_RIGHT: (1, 1, 1.4142135623730951)>, <Action.DOWN_RIGHT: (1, 1, 1.4142135623730951)>, <Action.DOWN_RIGHT: (1, 1, 1.4142135623730951)>, <Action.DOWN_RIGHT: (1, 1, 1.4142135623730951)>, <Action.DOWN_RIGHT: (1, 1, 1.4142135623730951)>, <Action.DOWN_RIGHT: (1, 1, 1.4142135623730951)>, <Action.DOWN_RIGHT: (1, 1, 1.4142135623730951)>, <Action.DOWN_RIGHT: (1, 1, 1.4142135623730951)>, <Action.DOWN_RIGHT: (1, 1, 1.4142135623730951)>, <Action.DOWN_RIGHT: (1, 1, 1.4142135623730951)>, <Action.DOWN_RIGHT: (1, 1, 1.4142135623730951)>, <Action.DOWN_RIGHT: (1, 1, 1.4142135623730951)>, <Action.DOWN_RIGHT: (1, 1, 1.4142135623730951)>, <Action.DOWN_RIGHT: (1, 1, 1.4142135623730951)>, <Action.DOWN_RIGHT: (1, 1, 1.4142135623730951)>, <Action.DOWN_RIGHT: (1, 1, 1.4142135623730951)>, <Action.DOWN_RIGHT: (1, 1, 1.4142135623730951)>, <Action.DOWN_RIGHT: (1, 1, 1.4142135623730951)>, <Action.DOWN_RIGHT: (1, 1, 1.4142135623730951)>, <Action.DOWN_RIGHT: (1, 1, 1.4142135623730951)>, <Action.DOWN_RIGHT: (1, 1, 1.4142135623730951)>, <Action.DOWN_RIGHT: (1, 1, 1.4142135623730951)>, <Action.DOWN: (1, 0, 1)>, <Action.DOWN: (1, 0, 1)>, <Action.DOWN: (1, 0, 1)>, <Action.DOWN: (1, 0, 1)>, <Action.DOWN: (1, 0, 1)>, <Action.DOWN: (1, 0, 1)>, <Action.DOWN: (1, 0, 1)>, <Action.DOWN: (1, 0, 1)>, <Action.DOWN: (1, 0, 1)>, <Action.DOWN: (1, 0, 1)>, <Action.DOWN: (1, 0, 1)>, <Action.DOWN: (1, 0, 1)>, <Action.DOWN: (1, 0, 1)>, <Action.DOWN: (1, 0, 1)>, <Action.DOWN: (1, 0, 1)>, <Action.DOWN: (1, 0, 1)>, <Action.DOWN: (1, 0, 1)>, <Action.DOWN: (1, 0, 1)>, <Action.DOWN: (1, 0, 1)>, <Action.DOWN: (1, 0, 1)>, <Action.DOWN: (1, 0, 1)>, <Action.DOWN: (1, 0, 1)>, <Action.DOWN: (1, 0, 1)>, <Action.DOWN: (1, 0, 1)>, <Action.DOWN: (1, 0, 1)>, <Action.DOWN: (1, 0, 1)>, <Action.DOWN: (1, 0, 1)>, <Action.DOWN: (1, 0, 1)>, <Action.DOWN: (1, 0, 1)>, <Action.DOWN: (1, 0, 1)>, <Action.DOWN: (1, 0, 1)>, <Action.DOWN: (1, 0, 1)>, <Action.DOWN: (1, 0, 1)>, <Action.DOWN: (1, 0, 1)>, <Action.DOWN: (1, 0, 1)>, <Action.DOWN: (1, 0, 1)>, <Action.DOWN: (1, 0, 1)>, <Action.DOWN: (1, 0, 1)>, <Action.DOWN: (1, 0, 1)>, <Action.DOWN: (1, 0, 1)>, <Action.DOWN: (1, 0, 1)>, <Action.DOWN: (1, 0, 1)>, <Action.DOWN: (1, 0, 1)>, <Action.DOWN: (1, 0, 1)>, <Action.DOWN: (1, 0, 1)>, <Action.DOWN: (1, 0, 1)>, <Action.DOWN: (1, 0, 1)>, <Action.DOWN: (1, 0, 1)>, <Action.DOWN: (1, 0, 1)>, <Action.DOWN: (1, 0, 1)>, <Action.DOWN: (1, 0, 1)>, <Action.DOWN: (1, 0, 1)>, <Action.DOWN: (1, 0, 1)>, <Action.DOWN: (1, 0, 1)>, <Action.DOWN: (1, 0, 1)>, <Action.DOWN: (1, 0, 1)>, <Action.DOWN: (1, 0, 1)>, <Action.DOWN: (1, 0, 1)>, <Action.DOWN: (1, 0, 1)>, <Action.DOWN: (1, 0, 1)>, <Action.DOWN: (1, 0, 1)>, <Action.DOWN: (1, 0, 1)>, <Action.DOWN: (1, 0, 1)>, <Action.DOWN: (1, 0, 1)>, <Action.DOWN: (1, 0, 1)>, <Action.DOWN: (1, 0, 1)>, <Action.DOWN: (1, 0, 1)>, <Action.DOWN: (1, 0, 1)>, <Action.DOWN: (1, 0, 1)>, <Action.DOWN: (1, 0, 1)>, <Action.DOWN: (1, 0, 1)>, <Action.DOWN: (1, 0, 1)>, <Action.DOWN: (1, 0, 1)>, <Action.DOWN: (1, 0, 1)>, <Action.DOWN: (1, 0, 1)>, <Action.DOWN: (1, 0, 1)>, <Action.DOWN: (1, 0, 1)>, <Action.DOWN: (1, 0, 1)>, <Action.DOWN: (1, 0, 1)>, <Action.DOWN: (1, 0, 1)>, <Action.DOWN: (1, 0, 1)>, <Action.DOWN: (1, 0, 1)>, <Action.DOWN: (1, 0, 1)>, <Action.DOWN: (1, 0, 1)>, <Action.DOWN: (1, 0, 1)>, <Action.DOWN: (1, 0, 1)>, <Action.DOWN: (1, 0, 1)>, <Action.DOWN: (1, 0, 1)>, <Action.DOWN: (1, 0, 1)>, <Action.DOWN: (1, 0, 1)>, <Action.DOWN: (1, 0, 1)>, <Action.DOWN: (1, 0, 1)>, <Action.DOWN: (1, 0, 1)>, <Action.DOWN: (1, 0, 1)>, <Action.DOWN_LEFT: (1, -1, 1.4142135623730951)>, <Action.DOWN_LEFT: (1, -1, 1.4142135623730951)>, <Action.DOWN_LEFT: (1, -1, 1.4142135623730951)>, <Action.DOWN_LEFT: (1, -1, 1.4142135623730951)>, <Action.DOWN_LEFT: (1, -1, 1.4142135623730951)>, <Action.DOWN_LEFT: (1, -1, 1.4142135623730951)>, <Action.DOWN_LEFT: (1, -1, 1.4142135623730951)>, <Action.DOWN_LEFT: (1, -1, 1.4142135623730951)>, <Action.DOWN: (1, 0, 1)>, <Action.DOWN: (1, 0, 1)>, <Action.DOWN: (1, 0, 1)>, <Action.DOWN: (1, 0, 1)>, <Action.DOWN: (1, 0, 1)>, <Action.DOWN: (1, 0, 1)>, <Action.DOWN: (1, 0, 1)>, <Action.DOWN: (1, 0, 1)>, <Action.DOWN: (1, 0, 1)>, <Action.DOWN: (1, 0, 1)>, <Action.DOWN: (1, 0, 1)>, <Action.DOWN: (1, 0, 1)>, <Action.DOWN: (1, 0, 1)>, <Action.DOWN: (1, 0, 1)>, <Action.DOWN: (1, 0, 1)>, <Action.DOWN: (1, 0, 1)>, <Action.DOWN: (1, 0, 1)>, <Action.DOWN: (1, 0, 1)>, <Action.DOWN: (1, 0, 1)>, <Action.DOWN: (1, 0, 1)>, <Action.DOWN: (1, 0, 1)>, <Action.DOWN: (1, 0, 1)>, <Action.DOWN: (1, 0, 1)>, <Action.DOWN: (1, 0, 1)>, <Action.DOWN: (1, 0, 1)>, <Action.DOWN: (1, 0, 1)>, <Action.DOWN: (1, 0, 1)>, <Action.DOWN: (1, 0, 1)>, <Action.DOWN: (1, 0, 1)>, <Action.DOWN: (1, 0, 1)>, <Action.DOWN_LEFT: (1, -1, 1.4142135623730951)>, <Action.DOWN_LEFT: (1, -1, 1.4142135623730951)>, <Action.DOWN_LEFT: (1, -1, 1.4142135623730951)>, <Action.DOWN_LEFT: (1, -1, 1.4142135623730951)>, <Action.DOWN_LEFT: (1, -1, 1.4142135623730951)>, <Action.DOWN_LEFT: (1, -1, 1.4142135623730951)>, <Action.DOWN_LEFT: (1, -1, 1.4142135623730951)>, <Action.DOWN_LEFT: (1, -1, 1.4142135623730951)>, <Action.DOWN_LEFT: (1, -1, 1.4142135623730951)>, <Action.DOWN_LEFT: (1, -1, 1.4142135623730951)>, <Action.DOWN: (1, 0, 1)>, <Action.DOWN: (1, 0, 1)>, <Action.DOWN: (1, 0, 1)>, <Action.DOWN: (1, 0, 1)>, <Action.DOWN: (1, 0, 1)>, <Action.DOWN: (1, 0, 1)>, <Action.DOWN: (1, 0, 1)>, <Action.DOWN: (1, 0, 1)>, <Action.DOWN: (1, 0, 1)>, <Action.DOWN: (1, 0, 1)>, <Action.DOWN: (1, 0, 1)>, <Action.DOWN: (1, 0, 1)>, <Action.DOWN: (1, 0, 1)>, <Action.DOWN: (1, 0, 1)>, <Action.DOWN: (1, 0, 1)>, <Action.DOWN: (1, 0, 1)>, <Action.DOWN_RIGHT: (1, 1, 1.4142135623730951)>, <Action.DOWN_RIGHT: (1, 1, 1.4142135623730951)>, <Action.DOWN_RIGHT: (1, 1, 1.4142135623730951)>, <Action.DOWN_RIGHT: (1, 1, 1.4142135623730951)>, <Action.DOWN_RIGHT: (1, 1, 1.4142135623730951)>, <Action.DOWN_RIGHT: (1, 1, 1.4142135623730951)>, <Action.DOWN_RIGHT: (1, 1, 1.4142135623730951)>, <Action.DOWN_RIGHT: (1, 1, 1.4142135623730951)>, <Action.DOWN: (1, 0, 1)>, <Action.DOWN: (1, 0, 1)>, <Action.DOWN: (1, 0, 1)>, <Action.DOWN: (1, 0, 1)>, <Action.DOWN: (1, 0, 1)>, <Action.DOWN: (1, 0, 1)>, <Action.DOWN: (1, 0, 1)>, <Action.DOWN: (1, 0, 1)>, <Action.DOWN_LEFT: (1, -1, 1.4142135623730951)>, <Action.DOWN_LEFT: (1, -1, 1.4142135623730951)>, <Action.DOWN_LEFT: (1, -1, 1.4142135623730951)>, <Action.DOWN_LEFT: (1, -1, 1.4142135623730951)>, <Action.DOWN_LEFT: (1, -1, 1.4142135623730951)>, <Action.DOWN_LEFT: (1, -1, 1.4142135623730951)>, <Action.DOWN_LEFT: (1, -1, 1.4142135623730951)>, <Action.DOWN_LEFT: (1, -1, 1.4142135623730951)>, <Action.DOWN_LEFT: (1, -1, 1.4142135623730951)>, <Action.DOWN_LEFT: (1, -1, 1.4142135623730951)>, <Action.DOWN_LEFT: (1, -1, 1.4142135623730951)>, <Action.DOWN_LEFT: (1, -1, 1.4142135623730951)>, <Action.DOWN_LEFT: (1, -1, 1.4142135623730951)>, <Action.DOWN_LEFT: (1, -1, 1.4142135623730951)>, <Action.DOWN_LEFT: (1, -1, 1.4142135623730951)>, <Action.DOWN_LEFT: (1, -1, 1.4142135623730951)>, <Action.DOWN_LEFT: (1, -1, 1.4142135623730951)>, <Action.DOWN_LEFT: (1, -1, 1.4142135623730951)>, <Action.DOWN: (1, 0, 1)>, <Action.DOWN: (1, 0, 1)>, <Action.DOWN: (1, 0, 1)>, <Action.DOWN: (1, 0, 1)>, <Action.DOWN: (1, 0, 1)>, <Action.DOWN: (1, 0, 1)>, <Action.DOWN: (1, 0, 1)>, <Action.DOWN: (1, 0, 1)>, <Action.DOWN: (1, 0, 1)>, <Action.DOWN: (1, 0, 1)>, <Action.DOWN: (1, 0, 1)>, <Action.DOWN: (1, 0, 1)>, <Action.DOWN: (1, 0, 1)>, <Action.DOWN: (1, 0, 1)>, <Action.DOWN: (1, 0, 1)>, <Action.DOWN: (1, 0, 1)>, <Action.DOWN: (1, 0, 1)>, <Action.DOWN: (1, 0, 1)>, <Action.DOWN: (1, 0, 1)>, <Action.DOWN: (1, 0, 1)>, <Action.DOWN: (1, 0, 1)>, <Action.DOWN: (1, 0, 1)>, <Action.DOWN: (1, 0, 1)>, <Action.DOWN: (1, 0, 1)>, <Action.DOWN: (1, 0, 1)>, <Action.DOWN: (1, 0, 1)>, <Action.DOWN: (1, 0, 1)>, <Action.DOWN: (1, 0, 1)>, <Action.DOWN: (1, 0, 1)>, <Action.DOWN: (1, 0, 1)>, <Action.DOWN: (1, 0, 1)>, <Action.DOWN: (1, 0, 1)>, <Action.DOWN: (1, 0, 1)>, <Action.DOWN: (1, 0, 1)>, <Action.DOWN: (1, 0, 1)>, <Action.DOWN: (1, 0, 1)>, <Action.DOWN: (1, 0, 1)>, <Action.DOWN: (1, 0, 1)>, <Action.DOWN: (1, 0, 1)>, <Action.DOWN: (1, 0, 1)>, <Action.DOWN: (1, 0, 1)>, <Action.DOWN: (1, 0, 1)>, <Action.DOWN: (1, 0, 1)>, <Action.DOWN: (1, 0, 1)>, <Action.DOWN: (1, 0, 1)>, <Action.DOWN: (1, 0, 1)>, <Action.DOWN: (1, 0, 1)>, <Action.DOWN: (1, 0, 1)>, <Action.DOWN: (1, 0, 1)>, <Action.DOWN: (1, 0, 1)>, <Action.DOWN: (1, 0, 1)>, <Action.DOWN: (1, 0, 1)>, <Action.DOWN: (1, 0, 1)>, <Action.DOWN: (1, 0, 1)>, <Action.DOWN: (1, 0, 1)>, <Action.DOWN: (1, 0, 1)>, <Action.DOWN: (1, 0, 1)>, <Action.DOWN: (1, 0, 1)>, <Action.DOWN: (1, 0, 1)>, <Action.DOWN: (1, 0, 1)>, <Action.DOWN_LEFT: (1, -1, 1.4142135623730951)>, <Action.DOWN_LEFT: (1, -1, 1.4142135623730951)>, <Action.DOWN_LEFT: (1, -1, 1.4142135623730951)>, <Action.DOWN_LEFT: (1, -1, 1.4142135623730951)>, <Action.DOWN_LEFT: (1, -1, 1.4142135623730951)>, <Action.DOWN_LEFT: (1, -1, 1.4142135623730951)>, <Action.DOWN_LEFT: (1, -1, 1.4142135623730951)>, <Action.DOWN_LEFT: (1, -1, 1.4142135623730951)>, <Action.DOWN_LEFT: (1, -1, 1.4142135623730951)>, <Action.DOWN_LEFT: (1, -1, 1.4142135623730951)>, <Action.DOWN: (1, 0, 1)>, <Action.DOWN: (1, 0, 1)>, <Action.DOWN: (1, 0, 1)>, <Action.DOWN: (1, 0, 1)>, <Action.DOWN: (1, 0, 1)>, <Action.DOWN: (1, 0, 1)>, <Action.DOWN: (1, 0, 1)>, <Action.DOWN: (1, 0, 1)>, <Action.DOWN: (1, 0, 1)>, <Action.DOWN: (1, 0, 1)>, <Action.DOWN: (1, 0, 1)>, <Action.DOWN: (1, 0, 1)>, <Action.DOWN: (1, 0, 1)>, <Action.DOWN: (1, 0, 1)>, <Action.DOWN: (1, 0, 1)>, <Action.DOWN: (1, 0, 1)>, <Action.DOWN_RIGHT: (1, 1, 1.4142135623730951)>, <Action.DOWN_RIGHT: (1, 1, 1.4142135623730951)>, <Action.DOWN_RIGHT: (1, 1, 1.4142135623730951)>, <Action.DOWN_RIGHT: (1, 1, 1.4142135623730951)>, <Action.DOWN_RIGHT: (1, 1, 1.4142135623730951)>, <Action.DOWN_RIGHT: (1, 1, 1.4142135623730951)>, <Action.DOWN_RIGHT: (1, 1, 1.4142135623730951)>, <Action.DOWN_RIGHT: (1, 1, 1.4142135623730951)>, <Action.DOWN_RIGHT: (1, 1, 1.4142135623730951)>, <Action.DOWN_RIGHT: (1, 1, 1.4142135623730951)>, <Action.DOWN_RIGHT: (1, 1, 1.4142135623730951)>, <Action.DOWN_RIGHT: (1, 1, 1.4142135623730951)>, <Action.DOWN_RIGHT: (1, 1, 1.4142135623730951)>, <Action.DOWN_RIGHT: (1, 1, 1.4142135623730951)>, <Action.DOWN_RIGHT: (1, 1, 1.4142135623730951)>, <Action.DOWN_RIGHT: (1, 1, 1.4142135623730951)>, <Action.DOWN_RIGHT: (1, 1, 1.4142135623730951)>, <Action.DOWN_RIGHT: (1, 1, 1.4142135623730951)>, <Action.DOWN_RIGHT: (1, 1, 1.4142135623730951)>, <Action.DOWN_RIGHT: (1, 1, 1.4142135623730951)>, <Action.DOWN_RIGHT: (1, 1, 1.4142135623730951)>, <Action.DOWN_RIGHT: (1, 1, 1.4142135623730951)>, <Action.DOWN_RIGHT: (1, 1, 1.4142135623730951)>, <Action.RIGHT: (0, 1, 1)>, <Action.RIGHT: (0, 1, 1)>, <Action.RIGHT: (0, 1, 1)>, <Action.RIGHT: (0, 1, 1)>, <Action.RIGHT: (0, 1, 1)>, <Action.RIGHT: (0, 1, 1)>, <Action.RIGHT: (0, 1, 1)>, <Action.RIGHT: (0, 1, 1)>, <Action.RIGHT: (0, 1, 1)>, <Action.RIGHT: (0, 1, 1)>, <Action.RIGHT: (0, 1, 1)>, <Action.RIGHT: (0, 1, 1)>, <Action.RIGHT: (0, 1, 1)>, <Action.RIGHT: (0, 1, 1)>, <Action.DOWN_RIGHT: (1, 1, 1.4142135623730951)>, <Action.DOWN_RIGHT: (1, 1, 1.4142135623730951)>, <Action.DOWN_RIGHT: (1, 1, 1.4142135623730951)>, <Action.DOWN_RIGHT: (1, 1, 1.4142135623730951)>, <Action.DOWN_RIGHT: (1, 1, 1.4142135623730951)>, <Action.DOWN_RIGHT: (1, 1, 1.4142135623730951)>, <Action.DOWN_RIGHT: (1, 1, 1.4142135623730951)>, <Action.DOWN_RIGHT: (1, 1, 1.4142135623730951)>, <Action.DOWN_RIGHT: (1, 1, 1.4142135623730951)>, <Action.DOWN_RIGHT: (1, 1, 1.4142135623730951)>, <Action.DOWN_RIGHT: (1, 1, 1.4142135623730951)>, <Action.DOWN_RIGHT: (1, 1, 1.4142135623730951)>, <Action.DOWN_RIGHT: (1, 1, 1.4142135623730951)>, <Action.DOWN_RIGHT: (1, 1, 1.4142135623730951)>, <Action.DOWN_RIGHT: (1, 1, 1.4142135623730951)>, <Action.DOWN_RIGHT: (1, 1, 1.4142135623730951)>, <Action.DOWN_RIGHT: (1, 1, 1.4142135623730951)>, <Action.DOWN_RIGHT: (1, 1, 1.4142135623730951)>, <Action.DOWN_RIGHT: (1, 1, 1.4142135623730951)>, <Action.DOWN_RIGHT: (1, 1, 1.4142135623730951)>, <Action.DOWN_RIGHT: (1, 1, 1.4142135623730951)>, <Action.DOWN_RIGHT: (1, 1, 1.4142135623730951)>, <Action.DOWN_RIGHT: (1, 1, 1.4142135623730951)>, <Action.DOWN_RIGHT: (1, 1, 1.4142135623730951)>, <Action.DOWN_RIGHT: (1, 1, 1.4142135623730951)>, <Action.DOWN_RIGHT: (1, 1, 1.4142135623730951)>, <Action.DOWN_RIGHT: (1, 1, 1.4142135623730951)>, <Action.DOWN_RIGHT: (1, 1, 1.4142135623730951)>, <Action.DOWN_RIGHT: (1, 1, 1.4142135623730951)>, <Action.DOWN_RIGHT: (1, 1, 1.4142135623730951)>, <Action.DOWN_RIGHT: (1, 1, 1.4142135623730951)>, <Action.DOWN: (1, 0, 1)>, <Action.DOWN: (1, 0, 1)>, <Action.DOWN: (1, 0, 1)>, <Action.DOWN_RIGHT: (1, 1, 1.4142135623730951)>, <Action.DOWN_RIGHT: (1, 1, 1.4142135623730951)>, <Action.DOWN_RIGHT: (1, 1, 1.4142135623730951)>, <Action.DOWN_RIGHT: (1, 1, 1.4142135623730951)>, <Action.DOWN_RIGHT: (1, 1, 1.4142135623730951)>, <Action.DOWN_RIGHT: (1, 1, 1.4142135623730951)>, <Action.DOWN_RIGHT: (1, 1, 1.4142135623730951)>, <Action.DOWN_RIGHT: (1, 1, 1.4142135623730951)>, <Action.DOWN_RIGHT: (1, 1, 1.4142135623730951)>, <Action.DOWN: (1, 0, 1)>, <Action.DOWN: (1, 0, 1)>, <Action.DOWN: (1, 0, 1)>, <Action.DOWN: (1, 0, 1)>, <Action.DOWN: (1, 0, 1)>, <Action.DOWN: (1, 0, 1)>, <Action.DOWN: (1, 0, 1)>, <Action.DOWN: (1, 0, 1)>, <Action.DOWN_LEFT: (1, -1, 1.4142135623730951)>, <Action.DOWN_LEFT: (1, -1, 1.4142135623730951)>, <Action.DOWN_LEFT: (1, -1, 1.4142135623730951)>, <Action.DOWN_LEFT: (1, -1, 1.4142135623730951)>, <Action.DOWN_LEFT: (1, -1, 1.4142135623730951)>, <Action.DOWN_LEFT: (1, -1, 1.4142135623730951)>, <Action.DOWN_LEFT: (1, -1, 1.4142135623730951)>, <Action.LEFT: (0, -1, 1)>, <Action.UP_LEFT: (-1, -1, 1.4142135623730951)>, <Action.UP_LEFT: (-1, -1, 1.4142135623730951)>, <Action.LEFT: (0, -1, 1)>, <Action.LEFT: (0, -1, 1)>, <Action.LEFT: (0, -1, 1)>, <Action.LEFT: (0, -1, 1)>, <Action.LEFT: (0, -1, 1)>, <Action.LEFT: (0, -1, 1)>, <Action.LEFT: (0, -1, 1)>, <Action.LEFT: (0, -1, 1)>, <Action.LEFT: (0, -1, 1)>, <Action.UP_LEFT: (-1, -1, 1.4142135623730951)>, <Action.UP_LEFT: (-1, -1, 1.4142135623730951)>, <Action.LEFT: (0, -1, 1)>, <Action.LEFT: (0, -1, 1)>, <Action.LEFT: (0, -1, 1)>, <Action.LEFT: (0, -1, 1)>, <Action.LEFT: (0, -1, 1)>, <Action.LEFT: (0, -1, 1)>, <Action.LEFT: (0, -1, 1)>, <Action.LEFT: (0, -1, 1)>, <Action.LEFT: (0, -1, 1)>, <Action.DOWN_LEFT: (1, -1, 1.4142135623730951)>, <Action.DOWN: (1, 0, 1)>, <Action.DOWN: (1, 0, 1)>, <Action.DOWN: (1, 0, 1)>, <Action.DOWN: (1, 0, 1)>, <Action.DOWN_LEFT: (1, -1, 1.4142135623730951)>, <Action.DOWN_LEFT: (1, -1, 1.4142135623730951)>, <Action.DOWN_LEFT: (1, -1, 1.4142135623730951)>, <Action.DOWN_LEFT: (1, -1, 1.4142135623730951)>, <Action.DOWN_LEFT: (1, -1, 1.4142135623730951)>, <Action.DOWN_LEFT: (1, -1, 1.4142135623730951)>, <Action.DOWN_LEFT: (1, -1, 1.4142135623730951)>, <Action.DOWN_LEFT: (1, -1, 1.4142135623730951)>, <Action.DOWN_LEFT: (1, -1, 1.4142135623730951)>, <Action.DOWN_LEFT: (1, -1, 1.4142135623730951)>, <Action.DOWN_LEFT: (1, -1, 1.4142135623730951)>, <Action.DOWN_LEFT: (1, -1, 1.4142135623730951)>, <Action.LEFT: (0, -1, 1)>, <Action.LEFT: (0, -1, 1)>, <Action.LEFT: (0, -1, 1)>, <Action.DOWN_LEFT: (1, -1, 1.4142135623730951)>, <Action.DOWN_LEFT: (1, -1, 1.4142135623730951)>, <Action.DOWN_LEFT: (1, -1, 1.4142135623730951)>, <Action.DOWN_LEFT: (1, -1, 1.4142135623730951)>, <Action.DOWN_LEFT: (1, -1, 1.4142135623730951)>, <Action.DOWN_LEFT: (1, -1, 1.4142135623730951)>, <Action.DOWN_LEFT: (1, -1, 1.4142135623730951)>, <Action.DOWN_LEFT: (1, -1, 1.4142135623730951)>, <Action.LEFT: (0, -1, 1)>, <Action.LEFT: (0, -1, 1)>, <Action.LEFT: (0, -1, 1)>, <Action.LEFT: (0, -1, 1)>, <Action.LEFT: (0, -1, 1)>, <Action.LEFT: (0, -1, 1)>, <Action.LEFT: (0, -1, 1)>, <Action.LEFT: (0, -1, 1)>, <Action.LEFT: (0, -1, 1)>, <Action.DOWN_LEFT: (1, -1, 1.4142135623730951)>, <Action.DOWN: (1, 0, 1)>, <Action.DOWN: (1, 0, 1)>, <Action.DOWN: (1, 0, 1)>, <Action.DOWN: (1, 0, 1)>, <Action.DOWN: (1, 0, 1)>, <Action.DOWN: (1, 0, 1)>, <Action.DOWN: (1, 0, 1)>, <Action.DOWN: (1, 0, 1)>, <Action.DOWN_RIGHT: (1, 1, 1.4142135623730951)>, <Action.DOWN_RIGHT: (1, 1, 1.4142135623730951)>, <Action.DOWN_RIGHT: (1, 1, 1.4142135623730951)>, <Action.DOWN_RIGHT: (1, 1, 1.4142135623730951)>, <Action.DOWN: (1, 0, 1)>, <Action.DOWN: (1, 0, 1)>, <Action.DOWN: (1, 0, 1)>, <Action.DOWN: (1, 0, 1)>, <Action.DOWN: (1, 0, 1)>, <Action.DOWN: (1, 0, 1)>, <Action.DOWN_RIGHT: (1, 1, 1.4142135623730951)>, <Action.DOWN_RIGHT: (1, 1, 1.4142135623730951)>, <Action.DOWN_RIGHT: (1, 1, 1.4142135623730951)>, <Action.DOWN_RIGHT: (1, 1, 1.4142135623730951)>, <Action.DOWN_RIGHT: (1, 1, 1.4142135623730951)>, <Action.DOWN_RIGHT: (1, 1, 1.4142135623730951)>, <Action.DOWN_RIGHT: (1, 1, 1.4142135623730951)>, <Action.DOWN: (1, 0, 1)>, <Action.DOWN: (1, 0, 1)>, <Action.DOWN: (1, 0, 1)>, <Action.DOWN: (1, 0, 1)>, <Action.DOWN: (1, 0, 1)>, <Action.DOWN_RIGHT: (1, 1, 1.4142135623730951)>, <Action.DOWN_RIGHT: (1, 1, 1.4142135623730951)>, <Action.DOWN: (1, 0, 1)>, <Action.DOWN: (1, 0, 1)>, <Action.DOWN: (1, 0, 1)>, <Action.DOWN: (1, 0, 1)>, <Action.DOWN: (1, 0, 1)>, <Action.DOWN_RIGHT: (1, 1, 1.4142135623730951)>, <Action.DOWN_RIGHT: (1, 1, 1.4142135623730951)>, <Action.DOWN_RIGHT: (1, 1, 1.4142135623730951)>, <Action.DOWN_RIGHT: (1, 1, 1.4142135623730951)>, <Action.DOWN: (1, 0, 1)>, <Action.DOWN: (1, 0, 1)>, <Action.DOWN_RIGHT: (1, 1, 1.4142135623730951)>, <Action.RIGHT: (0, 1, 1)>, <Action.RIGHT: (0, 1, 1)>, <Action.RIGHT: (0, 1, 1)>, <Action.RIGHT: (0, 1, 1)>, <Action.RIGHT: (0, 1, 1)>, <Action.RIGHT: (0, 1, 1)>, <Action.RIGHT: (0, 1, 1)>, <Action.RIGHT: (0, 1, 1)>, <Action.RIGHT: (0, 1, 1)>, <Action.RIGHT: (0, 1, 1)>, <Action.RIGHT: (0, 1, 1)>, <Action.RIGHT: (0, 1, 1)>, <Action.RIGHT: (0, 1, 1)>, <Action.RIGHT: (0, 1, 1)>, <Action.RIGHT: (0, 1, 1)>, <Action.RIGHT: (0, 1, 1)>, <Action.RIGHT: (0, 1, 1)>, <Action.RIGHT: (0, 1, 1)>, <Action.RIGHT: (0, 1, 1)>, <Action.RIGHT: (0, 1, 1)>, <Action.RIGHT: (0, 1, 1)>, <Action.RIGHT: (0, 1, 1)>, <Action.RIGHT: (0, 1, 1)>, <Action.DOWN_RIGHT: (1, 1, 1.4142135623730951)>]\n"
     ]
    }
   ],
   "source": [
    "grid, north_offset, east_offset = create_grid(data, TARGET_ALTITUDE, SAFETY_DISTANCE)\n",
    "path, _ = a_star(grid, heuristic, grid_start, grid_goal)\n",
    "print(path)"
   ]
  },
  {
   "cell_type": "code",
   "execution_count": 15,
   "metadata": {},
   "outputs": [],
   "source": [
    "def retrace_path( path, start):\n",
    "    retrace_path = []\n",
    "    pos = start\n",
    "    \n",
    "    for a in path:\n",
    "        da = a.value\n",
    "        pos = (pos[0] + da[0], pos[1] + da[1])\n",
    "        retrace_path.append(pos)\n",
    "    \n",
    "    return retrace_path"
   ]
  },
  {
   "cell_type": "code",
   "execution_count": 16,
   "metadata": {},
   "outputs": [
    {
     "name": "stdout",
     "output_type": "stream",
     "text": [
      "[(317, 446), (318, 447), (319, 448), (320, 449), (321, 450), (322, 451), (323, 452), (324, 453), (325, 454), (326, 455), (327, 456), (328, 457), (329, 458), (330, 459), (331, 460), (332, 461), (333, 462), (334, 463), (335, 464), (336, 465), (337, 466), (338, 467), (339, 468), (340, 469), (341, 470), (342, 471), (343, 472), (344, 473), (345, 474), (346, 475), (347, 476), (348, 477), (349, 478), (350, 479), (351, 480), (352, 481), (353, 482), (354, 483), (355, 484), (356, 485), (357, 486), (358, 487), (359, 488), (360, 489), (361, 490), (362, 491), (363, 492), (364, 493), (365, 494), (366, 495), (367, 496), (368, 497), (369, 498), (370, 499), (371, 500), (372, 501), (373, 502), (374, 503), (375, 504), (376, 505), (377, 506), (378, 507), (379, 508), (380, 509), (381, 510), (382, 511), (383, 512), (384, 513), (385, 514), (386, 515), (387, 516), (388, 517), (389, 518), (390, 519), (391, 520), (392, 521), (393, 522), (394, 523), (395, 524), (396, 525), (397, 526), (398, 527), (399, 528), (400, 529), (401, 530), (402, 531), (403, 532), (404, 533), (405, 534), (406, 535), (407, 536), (408, 537), (409, 538), (410, 539), (411, 540), (412, 541), (413, 542), (414, 543), (415, 544), (416, 545), (417, 546), (418, 547), (419, 548), (420, 549), (421, 550), (422, 551), (423, 552), (424, 553), (425, 554), (426, 555), (427, 556), (428, 557), (429, 558), (430, 559), (431, 560), (432, 561), (433, 562), (434, 563), (435, 564), (436, 565), (437, 566), (438, 567), (439, 568), (440, 569), (441, 570), (442, 571), (443, 572), (444, 573), (445, 574), (446, 574), (447, 574), (448, 574), (449, 574), (450, 574), (451, 574), (452, 574), (453, 574), (454, 574), (455, 574), (456, 574), (457, 574), (458, 574), (459, 574), (460, 574), (461, 574), (462, 574), (463, 574), (464, 574), (465, 574), (466, 574), (467, 574), (468, 574), (469, 574), (470, 574), (471, 574), (472, 574), (473, 574), (474, 574), (475, 574), (476, 574), (477, 574), (478, 574), (479, 574), (480, 574), (481, 574), (482, 574), (483, 574), (484, 574), (485, 574), (486, 574), (487, 574), (488, 574), (489, 574), (490, 574), (491, 574), (492, 574), (493, 574), (494, 574), (495, 574), (496, 574), (497, 574), (498, 574), (499, 574), (500, 574), (501, 574), (502, 574), (503, 574), (504, 574), (505, 574), (506, 574), (507, 574), (508, 574), (509, 574), (510, 574), (511, 574), (512, 574), (513, 574), (514, 574), (515, 574), (516, 574), (517, 574), (518, 574), (519, 574), (520, 574), (521, 574), (522, 574), (523, 574), (524, 574), (525, 574), (526, 574), (527, 574), (528, 574), (529, 574), (530, 574), (531, 574), (532, 574), (533, 574), (534, 574), (535, 574), (536, 574), (537, 574), (538, 574), (539, 574), (540, 573), (541, 572), (542, 571), (543, 570), (544, 569), (545, 568), (546, 567), (547, 566), (548, 566), (549, 566), (550, 566), (551, 566), (552, 566), (553, 566), (554, 566), (555, 566), (556, 566), (557, 566), (558, 566), (559, 566), (560, 566), (561, 566), (562, 566), (563, 566), (564, 566), (565, 566), (566, 566), (567, 566), (568, 566), (569, 566), (570, 566), (571, 566), (572, 566), (573, 566), (574, 566), (575, 566), (576, 566), (577, 566), (578, 565), (579, 564), (580, 563), (581, 562), (582, 561), (583, 560), (584, 559), (585, 558), (586, 557), (587, 556), (588, 556), (589, 556), (590, 556), (591, 556), (592, 556), (593, 556), (594, 556), (595, 556), (596, 556), (597, 556), (598, 556), (599, 556), (600, 556), (601, 556), (602, 556), (603, 556), (604, 557), (605, 558), (606, 559), (607, 560), (608, 561), (609, 562), (610, 563), (611, 564), (612, 564), (613, 564), (614, 564), (615, 564), (616, 564), (617, 564), (618, 564), (619, 564), (620, 563), (621, 562), (622, 561), (623, 560), (624, 559), (625, 558), (626, 557), (627, 556), (628, 555), (629, 554), (630, 553), (631, 552), (632, 551), (633, 550), (634, 549), (635, 548), (636, 547), (637, 546), (638, 546), (639, 546), (640, 546), (641, 546), (642, 546), (643, 546), (644, 546), (645, 546), (646, 546), (647, 546), (648, 546), (649, 546), (650, 546), (651, 546), (652, 546), (653, 546), (654, 546), (655, 546), (656, 546), (657, 546), (658, 546), (659, 546), (660, 546), (661, 546), (662, 546), (663, 546), (664, 546), (665, 546), (666, 546), (667, 546), (668, 546), (669, 546), (670, 546), (671, 546), (672, 546), (673, 546), (674, 546), (675, 546), (676, 546), (677, 546), (678, 546), (679, 546), (680, 546), (681, 546), (682, 546), (683, 546), (684, 546), (685, 546), (686, 546), (687, 546), (688, 546), (689, 546), (690, 546), (691, 546), (692, 546), (693, 546), (694, 546), (695, 546), (696, 546), (697, 546), (698, 545), (699, 544), (700, 543), (701, 542), (702, 541), (703, 540), (704, 539), (705, 538), (706, 537), (707, 536), (708, 536), (709, 536), (710, 536), (711, 536), (712, 536), (713, 536), (714, 536), (715, 536), (716, 536), (717, 536), (718, 536), (719, 536), (720, 536), (721, 536), (722, 536), (723, 536), (724, 537), (725, 538), (726, 539), (727, 540), (728, 541), (729, 542), (730, 543), (731, 544), (732, 545), (733, 546), (734, 547), (735, 548), (736, 549), (737, 550), (738, 551), (739, 552), (740, 553), (741, 554), (742, 555), (743, 556), (744, 557), (745, 558), (746, 559), (746, 560), (746, 561), (746, 562), (746, 563), (746, 564), (746, 565), (746, 566), (746, 567), (746, 568), (746, 569), (746, 570), (746, 571), (746, 572), (746, 573), (747, 574), (748, 575), (749, 576), (750, 577), (751, 578), (752, 579), (753, 580), (754, 581), (755, 582), (756, 583), (757, 584), (758, 585), (759, 586), (760, 587), (761, 588), (762, 589), (763, 590), (764, 591), (765, 592), (766, 593), (767, 594), (768, 595), (769, 596), (770, 597), (771, 598), (772, 599), (773, 600), (774, 601), (775, 602), (776, 603), (777, 604), (778, 604), (779, 604), (780, 604), (781, 605), (782, 606), (783, 607), (784, 608), (785, 609), (786, 610), (787, 611), (788, 612), (789, 613), (790, 613), (791, 613), (792, 613), (793, 613), (794, 613), (795, 613), (796, 613), (797, 613), (798, 612), (799, 611), (800, 610), (801, 609), (802, 608), (803, 607), (804, 606), (804, 605), (803, 604), (802, 603), (802, 602), (802, 601), (802, 600), (802, 599), (802, 598), (802, 597), (802, 596), (802, 595), (802, 594), (801, 593), (800, 592), (800, 591), (800, 590), (800, 589), (800, 588), (800, 587), (800, 586), (800, 585), (800, 584), (800, 583), (801, 582), (802, 582), (803, 582), (804, 582), (805, 582), (806, 581), (807, 580), (808, 579), (809, 578), (810, 577), (811, 576), (812, 575), (813, 574), (814, 573), (815, 572), (816, 571), (817, 570), (817, 569), (817, 568), (817, 567), (818, 566), (819, 565), (820, 564), (821, 563), (822, 562), (823, 561), (824, 560), (825, 559), (825, 558), (825, 557), (825, 556), (825, 555), (825, 554), (825, 553), (825, 552), (825, 551), (825, 550), (826, 549), (827, 549), (828, 549), (829, 549), (830, 549), (831, 549), (832, 549), (833, 549), (834, 549), (835, 550), (836, 551), (837, 552), (838, 553), (839, 553), (840, 553), (841, 553), (842, 553), (843, 553), (844, 553), (845, 554), (846, 555), (847, 556), (848, 557), (849, 558), (850, 559), (851, 560), (852, 560), (853, 560), (854, 560), (855, 560), (856, 560), (857, 561), (858, 562), (859, 562), (860, 562), (861, 562), (862, 562), (863, 562), (864, 563), (865, 564), (866, 565), (867, 566), (868, 566), (869, 566), (870, 567), (870, 568), (870, 569), (870, 570), (870, 571), (870, 572), (870, 573), (870, 574), (870, 575), (870, 576), (870, 577), (870, 578), (870, 579), (870, 580), (870, 581), (870, 582), (870, 583), (870, 584), (870, 585), (870, 586), (870, 587), (870, 588), (870, 589), (870, 590), (871, 591)]\n"
     ]
    }
   ],
   "source": [
    "retrace_pp = retrace_path(path,grid_start)\n",
    "print(retrace_pp)"
   ]
  },
  {
   "cell_type": "code",
   "execution_count": 17,
   "metadata": {},
   "outputs": [
    {
     "data": {
      "image/png": "[encoded data removed]",
      "text/plain": [
       "<matplotlib.figure.Figure at 0x291d1226518>"
      ]
     },
     "metadata": {},
     "output_type": "display_data"
    }
   ],
   "source": [
    "import numpy as np\n",
    "import matplotlib.pyplot as plt\n",
    "\n",
    "%matplotlib inline\n",
    "plt.rcParams[\"figure.figsize\"]=[12,12]\n",
    "plt.imshow(grid, origin='lower')\n",
    "plt.plot(grid_start[1], grid_start[0], 'x')\n",
    "plt.plot(grid_goal[1], grid_goal[0], 'x')\n",
    "\n",
    "pp = np.array(path)\n",
    "retrace_pp = np.array(retrace_path(pp,grid_start))\n",
    "plt.plot(retrace_pp[:, 1], retrace_pp[:, 0], 'g')\n",
    "\n",
    "plt.xlabel('EAST')\n",
    "plt.ylabel('NORTH')\n",
    "plt.show()"
   ]
  },
  {
   "cell_type": "code",
   "execution_count": 18,
   "metadata": {},
   "outputs": [
    {
     "name": "stdout",
     "output_type": "stream",
     "text": [
      "20.37820360123074\n"
     ]
    }
   ],
   "source": [
    "print(cost)"
   ]
  },
  {
   "cell_type": "code",
   "execution_count": 19,
   "metadata": {},
   "outputs": [],
   "source": [
    "# TODO: prune path to minimize number of waypoints\n",
    "def point(p):\n",
    "    return np.array([p[0], p[1], 1.]).reshape(1, -1)\n",
    "\n",
    "def collinearity_check(p1, p2, p3, epsilon=1e-6):   \n",
    "    m = np.concatenate((p1, p2, p3), 0)\n",
    "    det = np.linalg.det(m)\n",
    "    return abs(det) < epsilon\n",
    "\n",
    "def prune_path(path):\n",
    "    pruned_path = [p for p in path]\n",
    "    # TODO: prune the path!\n",
    "    \n",
    "    i = 0\n",
    "    while i < len(pruned_path) - 2:\n",
    "        p1 = point(pruned_path[i])\n",
    "        p2 = point(pruned_path[i+1])\n",
    "        p3 = point(pruned_path[i+2])\n",
    "        \n",
    "        # If the 3 points are in a line remove\n",
    "        # the 2nd point.\n",
    "        # The 3rd point now becomes and 2nd point\n",
    "        # and the check is redone with a new third point\n",
    "        # on the next iteration.\n",
    "        if collinearity_check(p1, p2, p3):\n",
    "            # Something subtle here but we can mutate\n",
    "            # `pruned_path` freely because the length\n",
    "            # of the list is check on every iteration.\n",
    "            pruned_path.remove(pruned_path[i+1])\n",
    "        else:\n",
    "            i += 1\n",
    "    return pruned_path"
   ]
  },
  {
   "cell_type": "code",
   "execution_count": 20,
   "metadata": {},
   "outputs": [
    {
     "name": "stdout",
     "output_type": "stream",
     "text": [
      "44\n"
     ]
    }
   ],
   "source": [
    "#retrace_pp = retrace_path(path,grid_start)\n",
    "pp = np.array(path)\n",
    "retrace_pp = retrace_path(pp,grid_start)\n",
    "pruned_path = prune_path(retrace_pp)\n",
    "print(len(pruned_path))"
   ]
  },
  {
   "cell_type": "code",
   "execution_count": 21,
   "metadata": {},
   "outputs": [
    {
     "name": "stdout",
     "output_type": "stream",
     "text": [
      "[(317, 446), (445, 574), (539, 574), (547, 566), (577, 566), (587, 556), (603, 556), (611, 564), (619, 564), (637, 546), (697, 546), (707, 536), (723, 536), (746, 559), (746, 573), (777, 604), (780, 604), (789, 613), (797, 613), (804, 606), (804, 605), (802, 603), (802, 594), (800, 592), (800, 583), (801, 582), (805, 582), (817, 570), (817, 567), (825, 559), (825, 550), (826, 549), (834, 549), (838, 553), (844, 553), (851, 560), (856, 560), (858, 562), (863, 562), (867, 566), (869, 566), (870, 567), (870, 590), (871, 591)]\n"
     ]
    }
   ],
   "source": [
    "print(pruned_path)"
   ]
  },
  {
   "cell_type": "code",
   "execution_count": 22,
   "metadata": {},
   "outputs": [
    {
     "data": {
      "image/png": "[encoded data removed]",
      "text/plain": [
       "<matplotlib.figure.Figure at 0x291d1c28668>"
      ]
     },
     "metadata": {},
     "output_type": "display_data"
    }
   ],
   "source": [
    "import numpy as np\n",
    "import matplotlib.pyplot as plt\n",
    "\n",
    "%matplotlib inline\n",
    "plt.rcParams[\"figure.figsize\"]=[12,12]\n",
    "plt.imshow(grid, origin='lower')\n",
    "plt.plot(grid_start[1], grid_start[0], 'x')\n",
    "plt.plot(grid_goal[1], grid_goal[0], 'x')\n",
    "\n",
    "pp = np.array(pruned_path)\n",
    "plt.plot(pp[:, 1], pp[:, 0], 'g')\n",
    "plt.scatter(pp[:, 1], pp[:, 0])\n",
    "\n",
    "plt.xlabel('EAST')\n",
    "plt.ylabel('NORTH')\n",
    "plt.show()"
   ]
  },
  {
   "cell_type": "markdown",
   "metadata": {},
   "source": [
    "With diagnal motion in waypoints, collinearity is not good enough , especially when it comes across very narrow road and the waypoints will shift from left side to right side. So bresenham should be introduced to minimize the number of waypoints.\n",
    "\n"
   ]
  },
  {
   "cell_type": "code",
   "execution_count": 29,
   "metadata": {},
   "outputs": [],
   "source": [
    "def bres(p1,p2):\n",
    "    x1,y1 = p1\n",
    "    x2,y2 = p2\n",
    "    cells = []\n",
    "    dx,dy = x2-x1,y2-y1\n",
    "    d=0\n",
    "    i = x1\n",
    "    j = y1\n",
    "    while i<x2 and j<y2:\n",
    "        cells.append([i,j])\n",
    "        if d < dx - dy:\n",
    "            d += dy\n",
    "            i += 1\n",
    "        elif d == dx - dy:\n",
    "            d += dy\n",
    "            i += 1\n",
    "            d -= dx\n",
    "            j += 1\n",
    "        else:\n",
    "            d -= dx\n",
    "            j += 1\n",
    "            \n",
    "    return np.array(cells)\n",
    "\n"
   ]
  },
  {
   "cell_type": "code",
   "execution_count": 32,
   "metadata": {},
   "outputs": [],
   "source": [
    "def path_free(grid, node1, node2):\n",
    "    x1, y1 = node1\n",
    "    x2, y2 = node2\n",
    "    cells = list(bres((x1, y1), (x2, y2)))\n",
    "    \n",
    "    for (x, y) in cells:\n",
    "        if grid[x, y] > 0:\n",
    "            return False\n",
    "    \n",
    "    return True\n",
    "\n",
    "def expand_path(grid, start, goal, path, lookahead = 10, epochs = 1):\n",
    "    \"\"\"\n",
    "    Prunes a path by expanding the distance between visible waypoints\n",
    "    \"\"\"\n",
    "    search_path = path\n",
    "    \n",
    "    for epoch in range(epochs):\n",
    "        new_path = [start]\n",
    "        max_ind = len(search_path) - 1\n",
    "        \n",
    "        current_node = start\n",
    "        index = 0\n",
    "        \n",
    "        while (index < max_ind):\n",
    "\n",
    "            max_dist = 0\n",
    "\n",
    "            for i in range(lookahead):\n",
    "                new_index = index + i + 0\n",
    "\n",
    "                if (new_index > max_ind):\n",
    "                    break\n",
    "\n",
    "                node = search_path[new_index]\n",
    "\n",
    "                if (path_free(grid, current_node, node)):\n",
    "                    dist = np.linalg.norm(np.array(current_node) - np.array(node))\n",
    "                    if dist > max_dist:\n",
    "                        max_dist = dist\n",
    "                        index = new_index\n",
    "\n",
    "            if (max_dist == 0):\n",
    "                index += 1\n",
    "\n",
    "            new_path.append(search_path[index])\n",
    "\n",
    "            current_node = search_path[index]\n",
    "        \n",
    "        search_path = new_path\n",
    "    \n",
    "    return new_path"
   ]
  },
  {
   "cell_type": "code",
   "execution_count": 33,
   "metadata": {},
   "outputs": [],
   "source": [
    "#retrace_pp\n",
    "LOOKAHEAD=10\n",
    "EPOCHS=1\n",
    "bres_path = expand_path(grid, grid_start, grid_goal, retrace_pp, lookahead=LOOKAHEAD, epochs=EPOCHS)"
   ]
  },
  {
   "cell_type": "code",
   "execution_count": 34,
   "metadata": {},
   "outputs": [
    {
     "data": {
      "image/png": "[encoded data removed]",
      "text/plain": [
       "<matplotlib.figure.Figure at 0x291d221fe48>"
      ]
     },
     "metadata": {},
     "output_type": "display_data"
    }
   ],
   "source": [
    "import numpy as np\n",
    "import matplotlib.pyplot as plt\n",
    "\n",
    "%matplotlib inline\n",
    "plt.rcParams[\"figure.figsize\"]=[12,12]\n",
    "plt.imshow(grid, origin='lower')\n",
    "plt.plot(grid_start[1], grid_start[0], 'x')\n",
    "plt.plot(grid_goal[1], grid_goal[0], 'x')\n",
    "\n",
    "pp = np.array(bres_path)\n",
    "plt.plot(pp[:, 1], pp[:, 0], 'g')\n",
    "plt.scatter(pp[:, 1], pp[:, 0])\n",
    "\n",
    "plt.xlabel('EAST')\n",
    "plt.ylabel('NORTH')\n",
    "plt.show()"
   ]
  },
  {
   "cell_type": "code",
   "execution_count": null,
   "metadata": {},
   "outputs": [],
   "source": [
    "# TODO (if you're feeling ambitious): Try a different approach altogether!"
   ]
  },
  {
   "cell_type": "code",
   "execution_count": 44,
   "metadata": {},
   "outputs": [],
   "source": [
    "waypoints = [[p[0] + north_offset, p[1] + east_offset, TARGET_ALTITUDE, 0] for p in pruned_path]"
   ]
  },
  {
   "cell_type": "code",
   "execution_count": null,
   "metadata": {},
   "outputs": [],
   "source": []
  }
 ],
 "metadata": {
  "kernelspec": {
   "display_name": "Python 3",
   "language": "python",
   "name": "python3"
  },
  "language_info": {
   "codemirror_mode": {
    "name": "ipython",
    "version": 3
   },
   "file_extension": ".py",
   "mimetype": "text/x-python",
   "name": "python",
   "nbconvert_exporter": "python",
   "pygments_lexer": "ipython3",
   "version": "3.6.3"
  }
 },
 "nbformat": 4,
 "nbformat_minor": 2
}
